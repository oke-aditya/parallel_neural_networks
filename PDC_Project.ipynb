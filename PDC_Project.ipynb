{
  "nbformat": 4,
  "nbformat_minor": 0,
  "metadata": {
    "colab": {
      "name": "PDC_Project.ipynb",
      "provenance": []
    },
    "kernelspec": {
      "name": "python3",
      "display_name": "Python 3"
    }
  },
  "cells": [
    {
      "cell_type": "code",
      "metadata": {
        "id": "h5bylPjmhBW5",
        "outputId": "c6c4eb8d-7f91-4f54-c942-88e5ce13c25d",
        "colab": {
          "base_uri": "https://localhost:8080/",
          "height": 201
        }
      },
      "source": [
        "!g++ -v"
      ],
      "execution_count": null,
      "outputs": [
        {
          "output_type": "stream",
          "text": [
            "Using built-in specs.\n",
            "COLLECT_GCC=g++\n",
            "COLLECT_LTO_WRAPPER=/usr/lib/gcc/x86_64-linux-gnu/7/lto-wrapper\n",
            "OFFLOAD_TARGET_NAMES=nvptx-none\n",
            "OFFLOAD_TARGET_DEFAULT=1\n",
            "Target: x86_64-linux-gnu\n",
            "Configured with: ../src/configure -v --with-pkgversion='Ubuntu 7.5.0-3ubuntu1~18.04' --with-bugurl=file:///usr/share/doc/gcc-7/README.Bugs --enable-languages=c,ada,c++,go,brig,d,fortran,objc,obj-c++ --prefix=/usr --with-gcc-major-version-only --program-suffix=-7 --program-prefix=x86_64-linux-gnu- --enable-shared --enable-linker-build-id --libexecdir=/usr/lib --without-included-gettext --enable-threads=posix --libdir=/usr/lib --enable-nls --enable-bootstrap --enable-clocale=gnu --enable-libstdcxx-debug --enable-libstdcxx-time=yes --with-default-libstdcxx-abi=new --enable-gnu-unique-object --disable-vtable-verify --enable-libmpx --enable-plugin --enable-default-pie --with-system-zlib --with-target-system-zlib --enable-objc-gc=auto --enable-multiarch --disable-werror --with-arch-32=i686 --with-abi=m64 --with-multilib-list=m32,m64,mx32 --enable-multilib --with-tune=generic --enable-offload-targets=nvptx-none --without-cuda-driver --enable-checking=release --build=x86_64-linux-gnu --host=x86_64-linux-gnu --target=x86_64-linux-gnu\n",
            "Thread model: posix\n",
            "gcc version 7.5.0 (Ubuntu 7.5.0-3ubuntu1~18.04) \n"
          ],
          "name": "stdout"
        }
      ]
    },
    {
      "cell_type": "code",
      "metadata": {
        "id": "9DVZNzeShIsb",
        "outputId": "044a0546-41ad-4566-865b-0a2accd6c53a",
        "colab": {
          "base_uri": "https://localhost:8080/",
          "height": 508
        }
      },
      "source": [
        "! apt-get install libomp-dev"
      ],
      "execution_count": null,
      "outputs": [
        {
          "output_type": "stream",
          "text": [
            "Reading package lists... Done\n",
            "Building dependency tree       \n",
            "Reading state information... Done\n",
            "The following additional packages will be installed:\n",
            "  libomp5\n",
            "Suggested packages:\n",
            "  libomp-doc\n",
            "The following NEW packages will be installed:\n",
            "  libomp-dev libomp5\n",
            "0 upgraded, 2 newly installed, 0 to remove and 22 not upgraded.\n",
            "Need to get 239 kB of archives.\n",
            "After this operation, 804 kB of additional disk space will be used.\n",
            "Get:1 http://archive.ubuntu.com/ubuntu bionic/universe amd64 libomp5 amd64 5.0.1-1 [234 kB]\n",
            "Get:2 http://archive.ubuntu.com/ubuntu bionic/universe amd64 libomp-dev amd64 5.0.1-1 [5,088 B]\n",
            "Fetched 239 kB in 1s (374 kB/s)\n",
            "Selecting previously unselected package libomp5:amd64.\n",
            "(Reading database ... 144618 files and directories currently installed.)\n",
            "Preparing to unpack .../libomp5_5.0.1-1_amd64.deb ...\n",
            "Unpacking libomp5:amd64 (5.0.1-1) ...\n",
            "Selecting previously unselected package libomp-dev.\n",
            "Preparing to unpack .../libomp-dev_5.0.1-1_amd64.deb ...\n",
            "Unpacking libomp-dev (5.0.1-1) ...\n",
            "Setting up libomp5:amd64 (5.0.1-1) ...\n",
            "Setting up libomp-dev (5.0.1-1) ...\n",
            "Processing triggers for libc-bin (2.27-3ubuntu1.2) ...\n",
            "/sbin/ldconfig.real: /usr/local/lib/python3.6/dist-packages/ideep4py/lib/libmkldnn.so.0 is not a symbolic link\n",
            "\n"
          ],
          "name": "stdout"
        }
      ]
    },
    {
      "cell_type": "code",
      "metadata": {
        "id": "Q8zUOdL1iOza",
        "outputId": "8abbdb92-cf4a-46f9-e79c-dbcf74c42543",
        "colab": {
          "base_uri": "https://localhost:8080/",
          "height": 144
        }
      },
      "source": [
        "! git clone https://github.com/oke-aditya/parallel_neural_networks.git"
      ],
      "execution_count": null,
      "outputs": [
        {
          "output_type": "stream",
          "text": [
            "Cloning into 'parallel_neural_networks'...\n",
            "remote: Enumerating objects: 116, done.\u001b[K\n",
            "remote: Counting objects: 100% (116/116), done.\u001b[K\n",
            "remote: Compressing objects: 100% (83/83), done.\u001b[K\n",
            "remote: Total 116 (delta 54), reused 80 (delta 28), pack-reused 0\u001b[K\n",
            "Receiving objects: 100% (116/116), 14.39 MiB | 15.95 MiB/s, done.\n",
            "Resolving deltas: 100% (54/54), done.\n"
          ],
          "name": "stdout"
        }
      ]
    },
    {
      "cell_type": "code",
      "metadata": {
        "id": "qGDe_Fezigqm",
        "outputId": "b4d09acd-a41e-432d-9ab7-5ed81ef4ca5c",
        "colab": {
          "base_uri": "https://localhost:8080/",
          "height": 35
        }
      },
      "source": [
        "# %cd /content/parallel_neural_networks/cpp_mnist"
      ],
      "execution_count": null,
      "outputs": [
        {
          "output_type": "stream",
          "text": [
            "/content/parallel_neural_networks/cpp_mnist\n"
          ],
          "name": "stdout"
        }
      ]
    },
    {
      "cell_type": "code",
      "metadata": {
        "id": "8UUXzXDwhh3l"
      },
      "source": [
        "# !g++ training_nn.cpp"
      ],
      "execution_count": null,
      "outputs": []
    },
    {
      "cell_type": "code",
      "metadata": {
        "id": "jZlurLa2iF2m"
      },
      "source": [
        "# ! ./a.out"
      ],
      "execution_count": null,
      "outputs": []
    },
    {
      "cell_type": "code",
      "metadata": {
        "id": "mHGbPI5fDCHB",
        "outputId": "c794921f-0a92-4051-e767-bc6ac52a4711",
        "colab": {
          "base_uri": "https://localhost:8080/",
          "height": 35
        }
      },
      "source": [
        "# %cd ../../\n",
        "# !rm -r parallel_neural_networks/"
      ],
      "execution_count": null,
      "outputs": [
        {
          "output_type": "stream",
          "text": [
            "/content\n"
          ],
          "name": "stdout"
        }
      ]
    },
    {
      "cell_type": "code",
      "metadata": {
        "id": "D5D23SgeipkT",
        "outputId": "f62d6a21-68f7-47c3-a535-ed6566463200",
        "colab": {
          "base_uri": "https://localhost:8080/",
          "height": 35
        }
      },
      "source": [
        "%cd /content/parallel_neural_networks/openmp_mnist"
      ],
      "execution_count": null,
      "outputs": [
        {
          "output_type": "stream",
          "text": [
            "/content/parallel_neural_networks/openmp_mnist\n"
          ],
          "name": "stdout"
        }
      ]
    },
    {
      "cell_type": "code",
      "metadata": {
        "id": "QoBCrIzOpaO4"
      },
      "source": [
        "!g++ -fopenmp training_private_nn.cpp"
      ],
      "execution_count": null,
      "outputs": []
    },
    {
      "cell_type": "code",
      "metadata": {
        "id": "jq3_494BpdKu",
        "outputId": "5cb11c10-4872-45d7-8f75-13425307df39",
        "colab": {
          "base_uri": "https://localhost:8080/",
          "height": 364
        }
      },
      "source": [
        "! ./a.out"
      ],
      "execution_count": null,
      "outputs": [
        {
          "output_type": "stream",
          "text": [
            "**************************************************\n",
            "*** Training Neural Network for MNIST database ***\n",
            "**************************************************\n",
            "\n",
            "No. input neurons: 784\n",
            "No. hidden neurons: 128\n",
            "No. output neurons: 10\n",
            "\n",
            "Total No. iterations: 5\n",
            "Learning rate: 0.001\n",
            "Momentum: 0.9\n",
            "Epsilon: 0.001\n",
            "\n",
            "Training image data: ../mnist/train-images.idx3-ubyte\n",
            "Training label data: ../mnist/train-labels.idx1-ubyte\n",
            "No. training sample: 50000\n",
            "\n",
            "Epoch finished 0Epoch finished 0Epoch finished 0Epoch finished 0Epoch finished 0Epoch finished 0Epoch finished 0Epoch finished 0Epoch finished 0Epoch finished 0Epoch finished 0Epoch finished 0Epoch finished 1Epoch finished 1Epoch finished 1Epoch finished 1Epoch finished 1Epoch finished 1Epoch finished 1Epoch finished 1Epoch finished 1Epoch finished 1Epoch finished 1Epoch finished 1Epoch finished 2Epoch finished 2Epoch finished 2Epoch finished 2Epoch finished 2Epoch finished 2Epoch finished 2Epoch finished 2Epoch finished 2Epoch finished 2Epoch finished 2Epoch finished 2Epoch finished 3Epoch finished 3Epoch finished 3Epoch finished 3Epoch finished 3Epoch finished 3Epoch finished 3Epoch finished 3Epoch finished 3Epoch finished 3Epoch finished 3Epoch finished 3Epoch finished 4Epoch finished 4Epoch finished 4Epoch finished 4Epoch finished 4Epoch finished 4Epoch finished 4Epoch finished 4Epoch finished 4Epoch finished 4Epoch finished 4Epoch finished 4Elapsed time: 2864.3 seconds\n"
          ],
          "name": "stdout"
        }
      ]
    },
    {
      "cell_type": "code",
      "metadata": {
        "id": "zJUbdyV6pjPn"
      },
      "source": [
        "!g++ -fopenmp testing_nn.cpp"
      ],
      "execution_count": null,
      "outputs": []
    },
    {
      "cell_type": "code",
      "metadata": {
        "id": "JdAJuIHxyVDS"
      },
      "source": [
        "! ./a.out"
      ],
      "execution_count": null,
      "outputs": []
    },
    {
      "cell_type": "code",
      "metadata": {
        "id": "XrhQ6W7MyaH2"
      },
      "source": [
        ""
      ],
      "execution_count": null,
      "outputs": []
    }
  ]
}